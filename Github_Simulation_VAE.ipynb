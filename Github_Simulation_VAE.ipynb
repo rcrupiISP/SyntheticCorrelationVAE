{
 "cells": [
  {
   "cell_type": "markdown",
   "metadata": {},
   "source": [
    "### Synthetic correlations with VAEs - Simulation\n"
   ]
  },
  {
   "cell_type": "markdown",
   "metadata": {},
   "source": [
    "Simulating correlation matrices for financial assets lacks a universally accepted approach. This project explores the use of Variational Auto-Encoders (VAEs) to generate matrices that adhere to commonly observed correlation properties. Our focus is specifically on correlations among equity indices.\n",
    "\n",
    "One notable aspect of our approach is the potential for explainability regarding how the correlation matrix may change over time—a desirable feature for financial applications.\n",
    "\n",
    "The data utilized in our study is sourced from Datastream.\n",
    "\n",
    "#### Example Illustration: Italian Default Rates\n",
    "\n",
    "In this repository, we provide an example employing other data, that are freely available. The data, obtained from https://infostat.bancaditalia.it/, pertains to Italian default rates. We employ a spline method for data elaboration in this instance. Feel free to explore and adapt our methodology for your own research and applications.\n",
    "\n",
    "Import some packages."
   ]
  },
  {
   "cell_type": "code",
   "execution_count": 25,
   "metadata": {},
   "outputs": [],
   "source": [
    "#load appropriate packages\n",
    "import torch\n",
    "from torch.utils.data import BatchSampler, SequentialSampler, RandomSampler\n",
    "import torch.nn as nn\n",
    "import torch.nn.functional as F\n",
    "import os\n",
    "import torchvision\n",
    "import torch.optim as optim\n",
    "import argparse\n",
    "import matplotlib\n",
    "import torch.nn as nn\n",
    "import matplotlib.pyplot as plt\n",
    "import torchvision.transforms as transforms\n",
    "from tqdm import tqdm\n",
    "from torchvision import datasets\n",
    "from torch.utils.data import DataLoader\n",
    "from torchvision.utils import save_image\n",
    "matplotlib.style.use('ggplot')\n",
    "from torch.utils.data import Dataset\n",
    "from torch.utils.data import random_split\n",
    "import pandas as pd\n",
    "import numpy as np\n",
    "import pickle\n",
    "import seaborn as sns\n",
    "import random"
   ]
  },
  {
   "cell_type": "code",
   "execution_count": 26,
   "metadata": {},
   "outputs": [],
   "source": [
    "DIM_MAT = 32  # number of time series analyzed\n",
    "\n",
    "class VAE(nn.Module):\n",
    "    def __init__(self):\n",
    "        super(VAE, self).__init__()\n",
    " \n",
    "        # encoder\n",
    "        self.enc1 = nn.Linear(in_features=DIM_MAT * DIM_MAT, out_features=512)\n",
    "        self.enc2 = nn.Linear(in_features=512, out_features=250)\n",
    "        self.enc3 = nn.Linear(in_features=250, out_features=2*2)\n",
    " \n",
    "        # decoder \n",
    "        self.dec1 = nn.Linear(in_features=2, out_features=250)\n",
    "        self.dec2 = nn.Linear(in_features=250, out_features=512)\n",
    "        self.dec3 = nn.Linear(in_features=512, out_features=DIM_MAT * DIM_MAT)\n",
    "   \n",
    "    def reparameterize(self, mu, log_var):\n",
    "        #param mu: mean from the encoder's latent space\n",
    "        #param log_var: log var from the encoder's latent space\n",
    "        \n",
    "        std = torch.exp(0.5*log_var) # standard deviation\n",
    "        eps = torch.randn_like(std) # `randn_like` random number with the same size of the input\n",
    "        sample = mu + (eps * std) # sampling as if coming from the input space\n",
    "        return sample\n",
    " \n",
    "    def forward(self, x):\n",
    "        # encoding\n",
    "        x = F.relu(self.enc1(x)) #relu activation on first encoder\n",
    "        x = F.relu(self.enc2(x)) #relu activation on second encoder\n",
    "        x = self.enc3(x).view(-1, 2, 2)  #apply 3th encoder without activation function (view changes the dimensions)\n",
    "        # get `mu` and `log_var`\n",
    "        mu = x[:, 0, :] # the first feature values as mean\n",
    "        log_var = x[:, 1, :] # the other feature values as variance\n",
    "        # get the latent vector through reparameterization\n",
    "        z = self.reparameterize(mu, log_var)\n",
    " \n",
    "        # decoding\n",
    "        x = F.relu(self.dec1(z))\n",
    "        x = F.relu(self.dec2(x))\n",
    "        reconstruction = torch.sigmoid(self.dec3(x))\n",
    "        return reconstruction, mu, log_var\n",
    "    \n",
    "    def generate(self, sample):\n",
    "        # decoding\n",
    "        x = F.relu(self.dec1(sample))\n",
    "        x = F.relu(self.dec2(x))\n",
    "        generated = torch.sigmoid(self.dec3(x))\n",
    "        return generated"
   ]
  },
  {
   "cell_type": "markdown",
   "metadata": {},
   "source": [
    "### Instantiate a VAE"
   ]
  },
  {
   "cell_type": "code",
   "execution_count": 27,
   "metadata": {},
   "outputs": [
    {
     "name": "stdout",
     "output_type": "stream",
     "text": [
      "VAE(\n",
      "  (enc1): Linear(in_features=1024, out_features=512, bias=True)\n",
      "  (enc2): Linear(in_features=512, out_features=250, bias=True)\n",
      "  (enc3): Linear(in_features=250, out_features=4, bias=True)\n",
      "  (dec1): Linear(in_features=2, out_features=250, bias=True)\n",
      "  (dec2): Linear(in_features=250, out_features=512, bias=True)\n",
      "  (dec3): Linear(in_features=512, out_features=1024, bias=True)\n",
      ")\n"
     ]
    }
   ],
   "source": [
    "device = torch.device('cpu')\n",
    "myVAE = VAE().to(device)\n",
    "criterion = nn.MSELoss(reduction = 'sum')\n",
    "print(myVAE)"
   ]
  },
  {
   "cell_type": "code",
   "execution_count": 28,
   "metadata": {},
   "outputs": [
    {
     "data": {
      "text/plain": [
       "<All keys matched successfully>"
      ]
     },
     "execution_count": 28,
     "metadata": {},
     "output_type": "execute_result"
    }
   ],
   "source": [
    "myVAE.load_state_dict(torch.load('github_model_80epochs_beta_01_SEED.pth'))"
   ]
  },
  {
   "cell_type": "code",
   "execution_count": 29,
   "metadata": {},
   "outputs": [],
   "source": [
    "synt_44 = []\n",
    "num_sim = 1000\n",
    "for i in range(num_sim):\n",
    "    normal = torch.from_numpy(np.random.normal(0,1,2))\n",
    "    generate = myVAE.generate(normal.float())\n",
    "    synt_44.append(generate)"
   ]
  },
  {
   "cell_type": "code",
   "execution_count": 30,
   "metadata": {},
   "outputs": [
    {
     "name": "stdout",
     "output_type": "stream",
     "text": [
      "tensor([[0.9983, 0.8141, 0.7809,  ..., 0.6868, 0.7430, 0.8285],\n",
      "        [0.8143, 0.9982, 0.8830,  ..., 0.8116, 0.8658, 0.9275],\n",
      "        [0.7747, 0.8844, 0.9983,  ..., 0.9169, 0.9601, 0.9588],\n",
      "        ...,\n",
      "        [0.6843, 0.8068, 0.9164,  ..., 0.9970, 0.9591, 0.8907],\n",
      "        [0.7459, 0.8634, 0.9589,  ..., 0.9611, 0.9977, 0.9493],\n",
      "        [0.8261, 0.9283, 0.9569,  ..., 0.8954, 0.9488, 0.9986]],\n",
      "       grad_fn=<ViewBackward0>)\n"
     ]
    }
   ],
   "source": [
    "print(synt_44[20].view(DIM_MAT,DIM_MAT))"
   ]
  },
  {
   "cell_type": "markdown",
   "metadata": {},
   "source": [
    "### Sampling a set of points from the latent space "
   ]
  },
  {
   "cell_type": "code",
   "execution_count": 31,
   "metadata": {},
   "outputs": [],
   "source": [
    "# selezione manuale in zone non mappate dalle matrici storiche\n",
    "extra_points = np.array([[-1, .5], [-.5, .5], [0.5, .5], [1, .5], [1.5, .5],\n",
    "                   [-1, 0], [-.5, 0], [.5, 0], [1, 0],\n",
    "                   [-1, -.5], [-.5, -.5], [.5, -.5], [1, -.5],\n",
    "                   [-.5, -1], [0, -1], [.5, -1], [1, -1], [-1, 1.5],\n",
    "                   [-.5, -1.5], [0, -1.5], [.5, -1.5], [1, -1.5],\n",
    "                    [0, -2], [.5, -2]])\n",
    "#pd.DataFrame(extra_points).to_excel('extra_points.xls')\n",
    "n_xp = len(extra_points)\n",
    "corr_mats = np.zeros((n_xp, DIM_MAT*DIM_MAT))\n",
    "for i, x_p in enumerate(extra_points):\n",
    "    xp = torch.from_numpy(x_p).float()\n",
    "    mat = myVAE.generate(xp).detach().numpy()\n",
    "    corr_mats[i, :] = mat\n"
   ]
  },
  {
   "cell_type": "code",
   "execution_count": 32,
   "metadata": {},
   "outputs": [
    {
     "data": {
      "image/png": "[encoded data removed]",
      "text/plain": [
       "<Figure size 720x720 with 1 Axes>"
      ]
     },
     "metadata": {},
     "output_type": "display_data"
    }
   ],
   "source": [
    "#probability of being outside the circle\n",
    "alpha = np.array([.95, .9, .8, .7, .6, .5, .4, .3, .2, .1, .05])\n",
    "\n",
    "#probability radii\n",
    "radii = np.sqrt(-2 * np.log(alpha))\n",
    "\n",
    "#number of points on each circle\n",
    "n_p = np.floor(10 * radii).astype(int)\n",
    "n_p_tot = sum(n_p)\n",
    "\n",
    "# angle between points\n",
    "theta = 2 * np.pi / np.floor(10 * radii)\n",
    "\n",
    "x_sample = np.zeros(n_p_tot)\n",
    "y_sample = np.zeros(n_p_tot)\n",
    "counter = 0\n",
    "np.random.seed(seed=932)\n",
    "for i, r in enumerate(radii):\n",
    "    theta_shift = np.random.rand(1)\n",
    "    for n in range(n_p[i]):\n",
    "        th = theta[i] * n + theta_shift\n",
    "        x_sample[counter] = r * np.cos(th)\n",
    "        y_sample[counter] = r * np.sin(th)\n",
    "        counter += 1\n",
    "\n",
    "plt.figure(figsize = (10, 10))\n",
    "plt.scatter(x_sample, y_sample, color = 'green')\n",
    "plt.show()"
   ]
  },
  {
   "cell_type": "code",
   "execution_count": 33,
   "metadata": {},
   "outputs": [],
   "source": [
    "sampled_corr_mats = np.zeros((n_p_tot, DIM_MAT*DIM_MAT))\n",
    "for i in range(n_p_tot):\n",
    "    sample = np.array([x_sample[i], y_sample[i]])\n",
    "    xp = torch.from_numpy(sample).float()\n",
    "    mat = myVAE.generate(xp).detach().numpy()\n",
    "    sampled_corr_mats[i, :] = mat"
   ]
  },
  {
   "cell_type": "code",
   "execution_count": 34,
   "metadata": {},
   "outputs": [
    {
     "name": "stdout",
     "output_type": "stream",
     "text": [
      "(132, 1024)\n"
     ]
    }
   ],
   "source": [
    "print(sampled_corr_mats.shape)"
   ]
  },
  {
   "cell_type": "markdown",
   "metadata": {},
   "source": [
    "## Eigenvalues\n",
    "The points in the latent space have been sampled in circles of increasing radius. Then plotting the 3 largest eigenvalues of the matrices results in subsequent stretches of sinusoids, with increasing amplitude.\n",
    "The first eigenvalue is in counterphase with the second and third."
   ]
  },
  {
   "cell_type": "code",
   "execution_count": 35,
   "metadata": {},
   "outputs": [
    {
     "name": "stderr",
     "output_type": "stream",
     "text": [
      "/tmp/ipykernel_119081/1424081931.py:8: ComplexWarning: Casting complex values to real discards the imaginary part\n",
      "  eig1[i] = sorted(eigenvals, reverse=True)[0]\n",
      "/tmp/ipykernel_119081/1424081931.py:9: ComplexWarning: Casting complex values to real discards the imaginary part\n",
      "  eig2[i] = sorted(eigenvals, reverse=True)[1]\n",
      "/tmp/ipykernel_119081/1424081931.py:10: ComplexWarning: Casting complex values to real discards the imaginary part\n",
      "  eig3[i] = sorted(eigenvals, reverse=True)[2]\n"
     ]
    }
   ],
   "source": [
    "L = len(sampled_corr_mats)\n",
    "eig1 = np.zeros(L)\n",
    "eig2 = np.zeros(L)\n",
    "eig3 = np.zeros(L)\n",
    "\n",
    "for i, corr in enumerate(sampled_corr_mats):\n",
    "    eigenvals, _ = np.linalg.eig(corr.reshape(DIM_MAT,DIM_MAT))\n",
    "    eig1[i] = sorted(eigenvals, reverse=True)[0] \n",
    "    eig2[i] = sorted(eigenvals, reverse=True)[1] \n",
    "    eig3[i] = sorted(eigenvals, reverse=True)[2] "
   ]
  },
  {
   "cell_type": "code",
   "execution_count": 36,
   "metadata": {},
   "outputs": [
    {
     "data": {
      "image/png": "[encoded data removed]",
      "text/plain": [
       "<Figure size 720x360 with 1 Axes>"
      ]
     },
     "metadata": {},
     "output_type": "display_data"
    }
   ],
   "source": [
    "plt.figure(figsize=(10, 5))\n",
    "plt.plot(eig1)\n",
    "plt.plot(eig2)\n",
    "plt.plot(eig3)\n",
    "plt.show()"
   ]
  },
  {
   "cell_type": "markdown",
   "metadata": {},
   "source": [
    "## Compute eigenvalues and eigenvectors, for the following analyses"
   ]
  },
  {
   "cell_type": "code",
   "execution_count": 37,
   "metadata": {},
   "outputs": [
    {
     "name": "stderr",
     "output_type": "stream",
     "text": [
      "/tmp/ipykernel_119081/523035653.py:10: ComplexWarning: Casting complex values to real discards the imaginary part\n",
      "  eigval[:, i] = vals[idx]\n",
      "/tmp/ipykernel_119081/523035653.py:11: ComplexWarning: Casting complex values to real discards the imaginary part\n",
      "  eigvec[:, :, i] = vecs[:, idx]\n"
     ]
    }
   ],
   "source": [
    "L = len(sampled_corr_mats)\n",
    "\n",
    "eigval = np.zeros((DIM_MAT, len(sampled_corr_mats)))\n",
    "eigvec = np.zeros((DIM_MAT, DIM_MAT, len(sampled_corr_mats)))\n",
    "\n",
    "for i, corr in enumerate(sampled_corr_mats):\n",
    "    \n",
    "    vals, vecs = np.linalg.eig(corr.reshape(DIM_MAT,DIM_MAT))\n",
    "    idx = vals.argsort()[::-1]\n",
    "    eigval[:, i] = vals[idx]\n",
    "    eigvec[:, :, i] = vecs[:, idx]\n",
    "\n",
    "# if possible choose positive sign for eigenvectors\n",
    "for k in range(len(sampled_corr_mats)): #loop over time\n",
    "    for j in range(DIM_MAT): #loop over eigenvecs\n",
    "        if eigvec[1, j, k] < 0:\n",
    "            eigvec[:, j, k] = - 1 * eigvec[:, j, k]"
   ]
  },
  {
   "cell_type": "code",
   "execution_count": 16,
   "metadata": {},
   "outputs": [
    {
     "data": {
      "text/plain": [
       "132"
      ]
     },
     "execution_count": 16,
     "metadata": {},
     "output_type": "execute_result"
    }
   ],
   "source": [
    "len(eigval[0,:])"
   ]
  },
  {
   "cell_type": "code",
   "execution_count": 38,
   "metadata": {},
   "outputs": [],
   "source": [
    "overlap = np.zeros(len(sampled_corr_mats) * DIM_MAT)\n",
    "overlap = overlap.reshape(DIM_MAT, len(sampled_corr_mats))\n",
    "\n",
    "overlap_l2 = np.zeros(len(sampled_corr_mats) * DIM_MAT)\n",
    "overlap_l2 = overlap_l2.reshape(DIM_MAT,len(sampled_corr_mats))\n",
    "\n",
    "for i in range(len(sampled_corr_mats)):\n",
    "    for j in range(DIM_MAT):  \n",
    "        overlap[j,i] = np.abs(np.dot(np.mean(eigvec[:, j, :], axis = 1), eigvec[:, j, i]))\n",
    "        overlap_l2[j,i] = np.abs(np.dot(np.mean(eigvec[:, j, :], axis = 1), eigvec[:, j, i]))"
   ]
  },
  {
   "cell_type": "markdown",
   "metadata": {},
   "source": [
    "### Save the simulated matrices "
   ]
  },
  {
   "cell_type": "code",
   "execution_count": 18,
   "metadata": {},
   "outputs": [],
   "source": [
    "pd.DataFrame(sampled_corr_mats).to_excel(\"corr_matrices_latent_space_full_sampling.xlsx\")"
   ]
  }
 ],
 "metadata": {
  "kernelspec": {
   "display_name": "py38",
   "language": "python",
   "name": "py38"
  },
  "language_info": {
   "codemirror_mode": {
    "name": "ipython",
    "version": 3
   },
   "file_extension": ".py",
   "mimetype": "text/x-python",
   "name": "python",
   "nbconvert_exporter": "python",
   "pygments_lexer": "ipython3",
   "version": "3.8.11"
  }
 },
 "nbformat": 4,
 "nbformat_minor": 4
}
