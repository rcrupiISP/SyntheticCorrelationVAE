{
 "cells": [
  {
   "cell_type": "markdown",
   "metadata": {},
   "source": [
    "### Synthetic correlations with VAEs - Training"
   ]
  },
  {
   "cell_type": "markdown",
   "metadata": {},
   "source": [
    "Simulating correlation matrices for financial assets lacks a universally accepted approach. This project explores the use of Variational Auto-Encoders (VAEs) to generate matrices that adhere to commonly observed correlation properties. Our focus is specifically on correlations among equity indices.\n",
    "\n",
    "One notable aspect of our approach is the potential for explainability regarding how the correlation matrix may change over time—a desirable feature for financial applications.\n",
    "\n",
    "The data utilized in our study is sourced from Datastream.\n",
    "\n",
    "#### Example Illustration: Italian Default Rates\n",
    "\n",
    "In this repository, we provide an example employing other data, that are freely available. The data, obtained from https://infostat.bancaditalia.it/, pertains to Italian default rates. We employ a spline method for data elaboration in this instance. Feel free to explore and adapt our methodology for your own research and applications."
   ]
  },
  {
   "cell_type": "markdown",
   "metadata": {},
   "source": [
    "Import some packages."
   ]
  },
  {
   "cell_type": "code",
   "execution_count": 65,
   "metadata": {},
   "outputs": [],
   "source": [
    "import torch\n",
    "from torch.utils.data import BatchSampler, SequentialSampler, RandomSampler\n",
    "import torch.nn as nn\n",
    "import torch.nn.functional as F\n",
    "import os\n",
    "import torchvision\n",
    "import torch.optim as optim\n",
    "import argparse\n",
    "import matplotlib\n",
    "import torch.nn as nn\n",
    "import matplotlib.pyplot as plt\n",
    "import torchvision.transforms as transforms\n",
    "from tqdm import tqdm\n",
    "from torchvision import datasets\n",
    "from torch.utils.data import DataLoader\n",
    "from torchvision.utils import save_image\n",
    "matplotlib.style.use('ggplot')\n",
    "from torch.utils.data import Dataset\n",
    "from torch.utils.data import random_split\n",
    "import pandas\n",
    "import numpy as np\n",
    "import pickle\n",
    "import seaborn as sns\n",
    "import random"
   ]
  },
  {
   "cell_type": "markdown",
   "metadata": {},
   "source": [
    "Define a linear VAE that squeezes from 32x32 to 2x2 and re-expands from 2x1 to 32x32."
   ]
  },
  {
   "cell_type": "code",
   "execution_count": 66,
   "metadata": {},
   "outputs": [],
   "source": [
    "FEATURES = 2\n",
    "DIM_MAT = 32 # NOTE: the number of columns of the dataset. In our paper 44, here we use bankit data with 32 columns\n",
    "\n",
    "class LinearVAE(nn.Module):\n",
    "    def __init__(self):\n",
    "        super(LinearVAE, self).__init__()\n",
    " \n",
    "        # encoder\n",
    "        self.enc1 = nn.Linear(in_features= (DIM_MAT) * (DIM_MAT), out_features=512)\n",
    "        self.enc2 = nn.Linear(in_features=512, out_features=250)\n",
    "        self.enc3 = nn.Linear(in_features=250, out_features=FEATURES*2)\n",
    " \n",
    "        # decoder \n",
    "        self.dec1 = nn.Linear(in_features=FEATURES, out_features=250)\n",
    "        self.dec2 = nn.Linear(in_features=250, out_features=512)\n",
    "        self.dec3 = nn.Linear(in_features=512, out_features= (DIM_MAT) * (DIM_MAT))\n",
    "   \n",
    "    def reparameterize(self, mu, log_var):\n",
    "        #param mu: mean from the encoder's latent space\n",
    "        #param log_var: log var from the encoder's latent space\n",
    "        \n",
    "        std = torch.exp(0.5*log_var) # standard deviation\n",
    "        eps = torch.randn_like(std) # `randn_like` random number with the same size of the input\n",
    "        sample = mu + (eps * std) # sampling as if coming from the input space\n",
    "        return sample\n",
    " \n",
    "    def forward(self, x):\n",
    "        # encoding\n",
    "        x = F.relu(self.enc1(x)) #relu activation on first encoder\n",
    "        x = F.relu(self.enc2(x)) #relu activation on second encoder\n",
    "        x = self.enc3(x).view(-1, 2, FEATURES)  #apply 3th encoder without activation function (view change the dimensions)\n",
    "        # get `mu` and `log_var`\n",
    "        mu = x[:, 0, :] # the first feature values as mean\n",
    "        log_var = x[:, 1, :] # the other feature values as variance\n",
    "        # get the latent vector through reparameterization\n",
    "        z = self.reparameterize(mu, log_var)\n",
    " \n",
    "        # decoding\n",
    "        x = F.relu(self.dec1(z))\n",
    "        x = F.relu(self.dec2(x))\n",
    "        reconstruction = torch.sigmoid(self.dec3(x))\n",
    "        return reconstruction, mu, log_var\n",
    "    \n"
   ]
  },
  {
   "cell_type": "markdown",
   "metadata": {},
   "source": [
    "Set the learning parameters."
   ]
  },
  {
   "cell_type": "code",
   "execution_count": 67,
   "metadata": {},
   "outputs": [],
   "source": [
    "LR = 0.0001 # learning rate\n",
    "device = torch.device('cuda' if torch.cuda.is_available() else 'cpu')"
   ]
  },
  {
   "cell_type": "markdown",
   "metadata": {},
   "source": [
    "Define a Dataset object that provides matrices."
   ]
  },
  {
   "cell_type": "code",
   "execution_count": 68,
   "metadata": {},
   "outputs": [],
   "source": [
    "def minmaxscaler(x): # rescale array in [0, 1]\n",
    "    return (x - x.min()) / (x.max() - x.min())\n",
    "\n",
    "\n",
    "class SlicedDataset(Dataset):\n",
    "    \n",
    "    def __init__(self, csv_file, minmax, windowsize):\n",
    "        self.data = np.genfromtxt(csv_file, delimiter = ';')[1:, 1:] # drop row and column names\n",
    "        if minmax:\n",
    "            self.data = np.apply_along_axis(minmaxscaler, 1, self.data)\n",
    "        \n",
    "        self.data = torch.as_tensor(self.data).float()\n",
    "    \n",
    "        self.windowsize = windowsize\n",
    "        self.nrow = self.data.shape[0]\n",
    "                \n",
    "        if self.windowsize > self.nrow:\n",
    "            raise Exception('Window size must not be larger than number of data rows.')\n",
    "        \n",
    "    def __getitem__(self, id_slice):\n",
    "        # NOTE: by 'item' we mean 'slice' of length windowsize\n",
    "        max_id = self.nrow - self.windowsize\n",
    "        if id_slice > max_id:\n",
    "            raise Exception('Non-existing slice selected.')\n",
    "        return self.data[id_slice:(id_slice + self.windowsize), :]\n",
    "    \n",
    "    def __len__(self):\n",
    "        return self.nrow - self.windowsize + 1 # because it is the number of possible items (i.e. slices)"
   ]
  },
  {
   "cell_type": "markdown",
   "metadata": {},
   "source": [
    "Import returns of equity indices into a Dataset that returns \"slices\", i.e. matrices.\n",
    "\n",
    "Length of matrices = W.\n",
    "\n",
    "Possibly, rescale them in [0, 1]."
   ]
  },
  {
   "cell_type": "code",
   "execution_count": 6,
   "metadata": {},
   "outputs": [],
   "source": [
    "W = 100 # size of the window (employed to compute the correlations)"
   ]
  },
  {
   "cell_type": "markdown",
   "metadata": {},
   "source": [
    "### Load data from datastream"
   ]
  },
  {
   "cell_type": "code",
   "execution_count": 7,
   "metadata": {},
   "outputs": [],
   "source": [
    "dati_scal = SlicedDataset('input.csv', minmax = True, windowsize = W)\n",
    "dati_noscal = SlicedDataset('input.csv', minmax = False, windowsize = W)"
   ]
  },
  {
   "cell_type": "code",
   "execution_count": 8,
   "metadata": {},
   "outputs": [
    {
     "data": {
      "text/plain": [
       "(217, 32)"
      ]
     },
     "execution_count": 8,
     "metadata": {},
     "output_type": "execute_result"
    }
   ],
   "source": [
    "x = np.genfromtxt('input.csv', delimiter = ';')[1:, 1:]\n",
    "x.shape"
   ]
  },
  {
   "cell_type": "markdown",
   "metadata": {},
   "source": [
    "N: number of quotations\n",
    "\n",
    "I: number of indices\n",
    "\n",
    "W: length of window\n",
    "\n",
    "From a SlicedDataset, create a DataLoader that generates N-W+1 historical matrices (as tensors), each one of dimension WxI (100 dates, 44 indices)."
   ]
  },
  {
   "cell_type": "code",
   "execution_count": 9,
   "metadata": {},
   "outputs": [],
   "source": [
    "N = x.shape[0]\n",
    "I = x.shape[1]"
   ]
  },
  {
   "cell_type": "code",
   "execution_count": 10,
   "metadata": {},
   "outputs": [
    {
     "data": {
      "text/plain": [
       "118"
      ]
     },
     "execution_count": 10,
     "metadata": {},
     "output_type": "execute_result"
    }
   ],
   "source": [
    "N - W + 1"
   ]
  },
  {
   "cell_type": "code",
   "execution_count": 11,
   "metadata": {},
   "outputs": [
    {
     "data": {
      "text/plain": [
       "torch.Size([118, 100, 32])"
      ]
     },
     "execution_count": 11,
     "metadata": {},
     "output_type": "execute_result"
    }
   ],
   "source": [
    "returns_loader_noscal = DataLoader(dati_noscal, batch_size = N-W+1, shuffle = True)\n",
    "batch_iter = iter(returns_loader_noscal)\n",
    "next(batch_iter).size()\n"
   ]
  },
  {
   "cell_type": "markdown",
   "metadata": {},
   "source": [
    "From a SlicedDataset, create a DataLoader that generates 1 historical matrix (as tensor), of dimension W x I. Typically: (100 dates, 44 indices).\n",
    "\n",
    "The matrices are shuffled, i.e. iterating over the returns_loader does not give consecutive periods."
   ]
  },
  {
   "cell_type": "code",
   "execution_count": 12,
   "metadata": {},
   "outputs": [],
   "source": [
    "#create a db with sampling matrices\n",
    "returns_loader_scal = DataLoader(dati_scal, batch_size=1, shuffle=True)"
   ]
  },
  {
   "cell_type": "markdown",
   "metadata": {},
   "source": [
    "If batch_size is 1, the loader can be iterated N-W+1 times."
   ]
  },
  {
   "cell_type": "code",
   "execution_count": 13,
   "metadata": {},
   "outputs": [
    {
     "data": {
      "text/plain": [
       "tensor([[[0.0000, 0.6694, 0.7008,  ..., 0.2910, 0.2643, 0.4400],\n",
       "         [0.0973, 0.5263, 0.6285,  ..., 0.2463, 0.2441, 0.4426],\n",
       "         [0.2741, 0.3537, 0.4860,  ..., 0.2498, 0.2701, 0.4255],\n",
       "         ...,\n",
       "         [0.0407, 0.6075, 0.4338,  ..., 0.4896, 0.2025, 0.4765],\n",
       "         [0.1169, 0.7843, 0.4307,  ..., 0.5587, 0.1623, 0.5792],\n",
       "         [0.1544, 0.7975, 0.3666,  ..., 0.5276, 0.1103, 0.5691]]])"
      ]
     },
     "execution_count": 13,
     "metadata": {},
     "output_type": "execute_result"
    }
   ],
   "source": [
    "next(iter(returns_loader_scal))"
   ]
  },
  {
   "cell_type": "markdown",
   "metadata": {},
   "source": [
    "Compute N-W+1 correlation matrices (dimension: I x I) and collect them in a list. Each correlation matrix is stored as a PyTorch tensor."
   ]
  },
  {
   "cell_type": "code",
   "execution_count": 14,
   "metadata": {},
   "outputs": [],
   "source": [
    "returns_loader_noscal = DataLoader(dati_noscal, batch_size = 1, shuffle = True)\n",
    "corr_mat_list = []\n",
    "iterat = iter(returns_loader_noscal)\n",
    "for i in range(N - W + 1):\n",
    "    data = next(iterat)[0].transpose(0, 1) # obtain a matrix IxW (example: 44x100)\n",
    "    corr_mat_list.append(data.corrcoef())"
   ]
  },
  {
   "cell_type": "code",
   "execution_count": 15,
   "metadata": {},
   "outputs": [
    {
     "name": "stdout",
     "output_type": "stream",
     "text": [
      "tensor([[1.0000, 0.8622, 0.8186,  ..., 0.7561, 0.7847, 0.8567],\n",
      "        [0.8622, 1.0000, 0.9385,  ..., 0.9001, 0.9121, 0.9420],\n",
      "        [0.8186, 0.9385, 1.0000,  ..., 0.9477, 0.9739, 0.9755],\n",
      "        ...,\n",
      "        [0.7561, 0.9001, 0.9477,  ..., 1.0000, 0.9797, 0.9455],\n",
      "        [0.7847, 0.9121, 0.9739,  ..., 0.9797, 1.0000, 0.9719],\n",
      "        [0.8567, 0.9420, 0.9755,  ..., 0.9455, 0.9719, 1.0000]])\n",
      "Length of corr_mat_list:  118\n"
     ]
    }
   ],
   "source": [
    "print(corr_mat_list[10])\n",
    "print(\"Length of corr_mat_list: \", len(corr_mat_list))"
   ]
  },
  {
   "cell_type": "markdown",
   "metadata": {},
   "source": [
    "Define a subclass of Dataset that contains all the N-W+1 correlation tensors (\"Dataset\" is an abstract class, so it must be overridden)."
   ]
  },
  {
   "cell_type": "code",
   "execution_count": 16,
   "metadata": {},
   "outputs": [],
   "source": [
    "class corr_Dataset(Dataset):\n",
    "    def __init__(self, data):\n",
    "        self.data = data\n",
    "        \n",
    "    def __getitem__(self, index):\n",
    "        x = self.data[index]\n",
    "        return x\n",
    "    \n",
    "    def __len__(self):\n",
    "        return len(self.data)"
   ]
  },
  {
   "cell_type": "markdown",
   "metadata": {},
   "source": [
    "Split the N-W+1 correlation matrices in a training dataset and a validation dataset."
   ]
  },
  {
   "cell_type": "code",
   "execution_count": 17,
   "metadata": {},
   "outputs": [
    {
     "name": "stdout",
     "output_type": "stream",
     "text": [
      "training matrices:  83\n",
      "validation matrices:  35\n"
     ]
    }
   ],
   "source": [
    "TRAIN_PCT = .7\n",
    "dataset = corr_Dataset(corr_mat_list)\n",
    "n_training = round(TRAIN_PCT * (N-W+1)) # set a percentage of the matrices to training\n",
    "n_validation = N-W+1 - n_training\n",
    "print(\"training matrices: \", n_training)\n",
    "print(\"validation matrices: \", n_validation)"
   ]
  },
  {
   "cell_type": "markdown",
   "metadata": {},
   "source": [
    "## Set a seed to fix the training and validation dataset (for comparison with other models)"
   ]
  },
  {
   "cell_type": "code",
   "execution_count": 18,
   "metadata": {},
   "outputs": [],
   "source": [
    "train_data, val_data = random_split(dataset, [n_training, n_validation], generator=torch.Generator().manual_seed(42))"
   ]
  },
  {
   "cell_type": "code",
   "execution_count": 19,
   "metadata": {},
   "outputs": [],
   "source": [
    "a, b = random_split(range(N - W + 1), [n_training, n_validation], generator=torch.Generator().manual_seed(42))"
   ]
  },
  {
   "cell_type": "markdown",
   "metadata": {},
   "source": [
    "Create DataLoaders that generate a matrix from the training set and validation set respectively. Training is shuffled, validation is in chronological order."
   ]
  },
  {
   "cell_type": "code",
   "execution_count": 20,
   "metadata": {},
   "outputs": [],
   "source": [
    "BATCH_SIZE = 1\n",
    "train_loader = DataLoader(train_data, batch_size = BATCH_SIZE, shuffle = True)\n",
    "val_loader = DataLoader(val_data, batch_size = BATCH_SIZE, shuffle = False)"
   ]
  },
  {
   "cell_type": "code",
   "execution_count": 21,
   "metadata": {},
   "outputs": [
    {
     "data": {
      "text/plain": [
       "torch.Size([1, 32, 32])"
      ]
     },
     "execution_count": 21,
     "metadata": {},
     "output_type": "execute_result"
    }
   ],
   "source": [
    "next(iter(train_loader)).size()"
   ]
  },
  {
   "cell_type": "markdown",
   "metadata": {},
   "source": [
    "Instantiate a VAE on the CPU.\n",
    "Instantiate also an optimizer and a loss criterion."
   ]
  },
  {
   "cell_type": "code",
   "execution_count": 22,
   "metadata": {},
   "outputs": [
    {
     "name": "stdout",
     "output_type": "stream",
     "text": [
      "LinearVAE(\n",
      "  (enc1): Linear(in_features=1024, out_features=512, bias=True)\n",
      "  (enc2): Linear(in_features=512, out_features=250, bias=True)\n",
      "  (enc3): Linear(in_features=250, out_features=4, bias=True)\n",
      "  (dec1): Linear(in_features=2, out_features=250, bias=True)\n",
      "  (dec2): Linear(in_features=250, out_features=512, bias=True)\n",
      "  (dec3): Linear(in_features=512, out_features=1024, bias=True)\n",
      ")\n"
     ]
    }
   ],
   "source": [
    "model = LinearVAE().to(device)\n",
    "optimizer = optim.Adam(model.parameters(), lr = LR)\n",
    "criterion = nn.MSELoss(reduction = 'sum')\n",
    "print(model)"
   ]
  },
  {
   "cell_type": "markdown",
   "metadata": {},
   "source": [
    "Define the loss function, using the Kullback-Leibler divergence."
   ]
  },
  {
   "cell_type": "code",
   "execution_count": 23,
   "metadata": {},
   "outputs": [],
   "source": [
    "def final_loss(mse_loss, mu, logvar, beta):\n",
    "    \"\"\"\n",
    "    This function will add the reconstruction loss (MSELoss) and the \n",
    "    KL-Divergence.\n",
    "    KL-Divergence = 0.5 * sum(1 + log(sigma^2) - mu^2 - sigma^2)\n",
    "    :param MSE_loss: recontruction loss\n",
    "    :param mu: the mean from the latent vector\n",
    "    :param logvar: log variance from the latent vector\n",
    "    \"\"\"\n",
    "    MSE = mse_loss\n",
    "    KLD = - 0.5 * torch.sum(1 + logvar - mu.pow(2) - logvar.exp())\n",
    "    return MSE + beta * KLD"
   ]
  },
  {
   "cell_type": "markdown",
   "metadata": {},
   "source": [
    "Define a fit function."
   ]
  },
  {
   "cell_type": "code",
   "execution_count": 24,
   "metadata": {},
   "outputs": [],
   "source": [
    "def fit(model, dataloader, beta):\n",
    "    model.train() # set model in training mode: parameters get updated\n",
    "    running_loss = 0.0\n",
    "  \n",
    "    for i, data in tqdm(enumerate(dataloader), total = int(len(dataloader) / dataloader.batch_size)):\n",
    "        # data is a tensor 1xIxI (e.g. 1x44x44)\n",
    "        data = data.to(device)\n",
    "        data = data.view(data.size(0), -1) # reshape of input for linear layer, now data is a tensor 1xI^2 (e.g. 1x1932)\n",
    "        \n",
    "        optimizer.zero_grad() # reset del gradiente\n",
    "        reconstruction, mu, logvar = model(data)\n",
    "        \n",
    "        mse_loss = criterion(reconstruction, data)\n",
    "        \n",
    "        loss = final_loss(mse_loss, mu, logvar, beta)\n",
    "        running_loss += loss.item()\n",
    "        loss.backward() # backpropagation del gradiente\n",
    "        optimizer.step() # update dei parametri\n",
    "    \n",
    "    train_loss = running_loss / len(dataloader)\n",
    "    return train_loss"
   ]
  },
  {
   "cell_type": "markdown",
   "metadata": {},
   "source": [
    "Define a validation function."
   ]
  },
  {
   "cell_type": "code",
   "execution_count": 25,
   "metadata": {},
   "outputs": [],
   "source": [
    "def validate(model, dataloader, beta):\n",
    "    model.eval()  # set model in validating mode: parameters do not get updated (so the gradient is not needed)\n",
    "    running_loss = 0.0\n",
    "    with torch.no_grad():  \n",
    "        for i, data in tqdm(enumerate(dataloader), total = int(len(dataloader) / dataloader.batch_size)):\n",
    "            data = data.to(device)\n",
    "            data = data.view(data.size(0), -1) # reshape of input for linear layer, now data is a tensor 1xI^2 (e.g. 1x1932)\n",
    "            reconstruction, mu, logvar = model(data)\n",
    "            mse_loss = criterion(reconstruction, data)\n",
    "            loss = final_loss(mse_loss, mu, logvar, beta)\n",
    "            running_loss += loss.item()\n",
    "                \n",
    "    val_loss = running_loss / len(dataloader)\n",
    "    return val_loss"
   ]
  },
  {
   "cell_type": "markdown",
   "metadata": {},
   "source": [
    "### Perform a loop of training and validation, saving the training loss and validation loss to check convergence."
   ]
  },
  {
   "cell_type": "code",
   "execution_count": 26,
   "metadata": {
    "collapsed": true,
    "jupyter": {
     "outputs_hidden": true
    }
   },
   "outputs": [
    {
     "name": "stdout",
     "output_type": "stream",
     "text": [
      "Epoch 1 of 80\n"
     ]
    },
    {
     "name": "stderr",
     "output_type": "stream",
     "text": [
      "100%|██████████| 83/83 [00:06<00:00, 12.88it/s]\n",
      "100%|██████████| 35/35 [00:00<00:00, 268.39it/s]\n"
     ]
    },
    {
     "name": "stdout",
     "output_type": "stream",
     "text": [
      "Train Loss: 53.9359\n",
      "Val Loss: 16.2104\n",
      "Epoch 2 of 80\n"
     ]
    },
    {
     "name": "stderr",
     "output_type": "stream",
     "text": [
      "100%|██████████| 83/83 [00:06<00:00, 13.77it/s]\n",
      "100%|██████████| 35/35 [00:00<00:00, 174.00it/s]\n"
     ]
    },
    {
     "name": "stdout",
     "output_type": "stream",
     "text": [
      "Train Loss: 14.6507\n",
      "Val Loss: 15.7541\n",
      "Epoch 3 of 80\n"
     ]
    },
    {
     "name": "stderr",
     "output_type": "stream",
     "text": [
      "100%|██████████| 83/83 [00:07<00:00, 11.83it/s]\n",
      "100%|██████████| 35/35 [00:00<00:00, 1282.68it/s]\n"
     ]
    },
    {
     "name": "stdout",
     "output_type": "stream",
     "text": [
      "Train Loss: 13.6282\n",
      "Val Loss: 14.1654\n",
      "Epoch 4 of 80\n"
     ]
    },
    {
     "name": "stderr",
     "output_type": "stream",
     "text": [
      "100%|██████████| 83/83 [00:07<00:00, 11.25it/s]\n",
      "100%|██████████| 35/35 [00:00<00:00, 817.18it/s]\n"
     ]
    },
    {
     "name": "stdout",
     "output_type": "stream",
     "text": [
      "Train Loss: 13.1428\n",
      "Val Loss: 13.0716\n",
      "Epoch 5 of 80\n"
     ]
    },
    {
     "name": "stderr",
     "output_type": "stream",
     "text": [
      "100%|██████████| 83/83 [00:06<00:00, 12.16it/s]\n",
      "100%|██████████| 35/35 [00:00<00:00, 1333.34it/s]\n"
     ]
    },
    {
     "name": "stdout",
     "output_type": "stream",
     "text": [
      "Train Loss: 12.5200\n",
      "Val Loss: 11.7108\n",
      "Epoch 6 of 80\n"
     ]
    },
    {
     "name": "stderr",
     "output_type": "stream",
     "text": [
      " 14%|█▍        | 12/83 [00:01<00:07,  9.59it/s]\n"
     ]
    },
    {
     "ename": "KeyboardInterrupt",
     "evalue": "",
     "output_type": "error",
     "traceback": [
      "\u001b[0;31m---------------------------------------------------------------------------\u001b[0m",
      "\u001b[0;31mKeyboardInterrupt\u001b[0m                         Traceback (most recent call last)",
      "Input \u001b[0;32mIn [26]\u001b[0m, in \u001b[0;36m<cell line: 5>\u001b[0;34m()\u001b[0m\n\u001b[1;32m      5\u001b[0m \u001b[38;5;28;01mfor\u001b[39;00m epoch \u001b[38;5;129;01min\u001b[39;00m \u001b[38;5;28mrange\u001b[39m(EPOCHS):\n\u001b[1;32m      6\u001b[0m     \u001b[38;5;28mprint\u001b[39m(\u001b[38;5;124mf\u001b[39m\u001b[38;5;124m\"\u001b[39m\u001b[38;5;124mEpoch \u001b[39m\u001b[38;5;132;01m{\u001b[39;00mepoch\u001b[38;5;250m \u001b[39m\u001b[38;5;241m+\u001b[39m\u001b[38;5;250m \u001b[39m\u001b[38;5;241m1\u001b[39m\u001b[38;5;132;01m}\u001b[39;00m\u001b[38;5;124m of \u001b[39m\u001b[38;5;132;01m{\u001b[39;00mEPOCHS\u001b[38;5;132;01m}\u001b[39;00m\u001b[38;5;124m\"\u001b[39m)\n\u001b[0;32m----> 7\u001b[0m     train_epoch_loss \u001b[38;5;241m=\u001b[39m \u001b[43mfit\u001b[49m\u001b[43m(\u001b[49m\u001b[43mmodel\u001b[49m\u001b[43m,\u001b[49m\u001b[43m \u001b[49m\u001b[43mtrain_loader\u001b[49m\u001b[43m,\u001b[49m\u001b[43m \u001b[49m\u001b[43mbeta\u001b[49m\u001b[43m)\u001b[49m\n\u001b[1;32m      8\u001b[0m     val_epoch_loss \u001b[38;5;241m=\u001b[39m validate(model, val_loader, beta)\n\u001b[1;32m      9\u001b[0m     train_loss\u001b[38;5;241m.\u001b[39mappend(train_epoch_loss)\n",
      "Input \u001b[0;32mIn [24]\u001b[0m, in \u001b[0;36mfit\u001b[0;34m(model, dataloader, beta)\u001b[0m\n\u001b[1;32m     15\u001b[0m     loss \u001b[38;5;241m=\u001b[39m final_loss(mse_loss, mu, logvar, beta)\n\u001b[1;32m     16\u001b[0m     running_loss \u001b[38;5;241m+\u001b[39m\u001b[38;5;241m=\u001b[39m loss\u001b[38;5;241m.\u001b[39mitem()\n\u001b[0;32m---> 17\u001b[0m     \u001b[43mloss\u001b[49m\u001b[38;5;241;43m.\u001b[39;49m\u001b[43mbackward\u001b[49m\u001b[43m(\u001b[49m\u001b[43m)\u001b[49m \u001b[38;5;66;03m# backpropagation del gradiente\u001b[39;00m\n\u001b[1;32m     18\u001b[0m     optimizer\u001b[38;5;241m.\u001b[39mstep() \u001b[38;5;66;03m# update dei parametri\u001b[39;00m\n\u001b[1;32m     20\u001b[0m train_loss \u001b[38;5;241m=\u001b[39m running_loss \u001b[38;5;241m/\u001b[39m \u001b[38;5;28mlen\u001b[39m(dataloader)\n",
      "File \u001b[0;32m/jupyter/venvs/py38/lib64/python3.8/site-packages/torch/_tensor.py:488\u001b[0m, in \u001b[0;36mTensor.backward\u001b[0;34m(self, gradient, retain_graph, create_graph, inputs)\u001b[0m\n\u001b[1;32m    478\u001b[0m \u001b[38;5;28;01mif\u001b[39;00m has_torch_function_unary(\u001b[38;5;28mself\u001b[39m):\n\u001b[1;32m    479\u001b[0m     \u001b[38;5;28;01mreturn\u001b[39;00m handle_torch_function(\n\u001b[1;32m    480\u001b[0m         Tensor\u001b[38;5;241m.\u001b[39mbackward,\n\u001b[1;32m    481\u001b[0m         (\u001b[38;5;28mself\u001b[39m,),\n\u001b[0;32m   (...)\u001b[0m\n\u001b[1;32m    486\u001b[0m         inputs\u001b[38;5;241m=\u001b[39minputs,\n\u001b[1;32m    487\u001b[0m     )\n\u001b[0;32m--> 488\u001b[0m \u001b[43mtorch\u001b[49m\u001b[38;5;241;43m.\u001b[39;49m\u001b[43mautograd\u001b[49m\u001b[38;5;241;43m.\u001b[39;49m\u001b[43mbackward\u001b[49m\u001b[43m(\u001b[49m\n\u001b[1;32m    489\u001b[0m \u001b[43m    \u001b[49m\u001b[38;5;28;43mself\u001b[39;49m\u001b[43m,\u001b[49m\u001b[43m \u001b[49m\u001b[43mgradient\u001b[49m\u001b[43m,\u001b[49m\u001b[43m \u001b[49m\u001b[43mretain_graph\u001b[49m\u001b[43m,\u001b[49m\u001b[43m \u001b[49m\u001b[43mcreate_graph\u001b[49m\u001b[43m,\u001b[49m\u001b[43m \u001b[49m\u001b[43minputs\u001b[49m\u001b[38;5;241;43m=\u001b[39;49m\u001b[43minputs\u001b[49m\n\u001b[1;32m    490\u001b[0m \u001b[43m\u001b[49m\u001b[43m)\u001b[49m\n",
      "File \u001b[0;32m/jupyter/venvs/py38/lib64/python3.8/site-packages/torch/autograd/__init__.py:197\u001b[0m, in \u001b[0;36mbackward\u001b[0;34m(tensors, grad_tensors, retain_graph, create_graph, grad_variables, inputs)\u001b[0m\n\u001b[1;32m    192\u001b[0m     retain_graph \u001b[38;5;241m=\u001b[39m create_graph\n\u001b[1;32m    194\u001b[0m \u001b[38;5;66;03m# The reason we repeat same the comment below is that\u001b[39;00m\n\u001b[1;32m    195\u001b[0m \u001b[38;5;66;03m# some Python versions print out the first line of a multi-line function\u001b[39;00m\n\u001b[1;32m    196\u001b[0m \u001b[38;5;66;03m# calls in the traceback and some print out the last line\u001b[39;00m\n\u001b[0;32m--> 197\u001b[0m \u001b[43mVariable\u001b[49m\u001b[38;5;241;43m.\u001b[39;49m\u001b[43m_execution_engine\u001b[49m\u001b[38;5;241;43m.\u001b[39;49m\u001b[43mrun_backward\u001b[49m\u001b[43m(\u001b[49m\u001b[43m  \u001b[49m\u001b[38;5;66;43;03m# Calls into the C++ engine to run the backward pass\u001b[39;49;00m\n\u001b[1;32m    198\u001b[0m \u001b[43m    \u001b[49m\u001b[43mtensors\u001b[49m\u001b[43m,\u001b[49m\u001b[43m \u001b[49m\u001b[43mgrad_tensors_\u001b[49m\u001b[43m,\u001b[49m\u001b[43m \u001b[49m\u001b[43mretain_graph\u001b[49m\u001b[43m,\u001b[49m\u001b[43m \u001b[49m\u001b[43mcreate_graph\u001b[49m\u001b[43m,\u001b[49m\u001b[43m \u001b[49m\u001b[43minputs\u001b[49m\u001b[43m,\u001b[49m\n\u001b[1;32m    199\u001b[0m \u001b[43m    \u001b[49m\u001b[43mallow_unreachable\u001b[49m\u001b[38;5;241;43m=\u001b[39;49m\u001b[38;5;28;43;01mTrue\u001b[39;49;00m\u001b[43m,\u001b[49m\u001b[43m \u001b[49m\u001b[43maccumulate_grad\u001b[49m\u001b[38;5;241;43m=\u001b[39;49m\u001b[38;5;28;43;01mTrue\u001b[39;49;00m\u001b[43m)\u001b[49m\n",
      "\u001b[0;31mKeyboardInterrupt\u001b[0m: "
     ]
    }
   ],
   "source": [
    "EPOCHS = 80\n",
    "beta = 0.1 #parametro per regolarizzare lo spazio latente\n",
    "train_loss = []\n",
    "val_loss = []\n",
    "for epoch in range(EPOCHS):\n",
    "    print(f\"Epoch {epoch + 1} of {EPOCHS}\")\n",
    "    train_epoch_loss = fit(model, train_loader, beta)\n",
    "    val_epoch_loss = validate(model, val_loader, beta)\n",
    "    train_loss.append(train_epoch_loss)\n",
    "    val_loss.append(val_epoch_loss)\n",
    "    print(f\"Train Loss: {train_epoch_loss:.4f}\")\n",
    "    print(f\"Val Loss: {val_epoch_loss:.4f}\")"
   ]
  },
  {
   "cell_type": "markdown",
   "metadata": {},
   "source": [
    "Visualize the convergence."
   ]
  },
  {
   "cell_type": "code",
   "execution_count": null,
   "metadata": {},
   "outputs": [],
   "source": [
    "plt.plot(train_loss, label = \"training loss\")\n",
    "plt.plot(val_loss, label = \"validation loss\")\n",
    "plt.legend()"
   ]
  },
  {
   "cell_type": "markdown",
   "metadata": {},
   "source": [
    "Save the trained model to a file."
   ]
  },
  {
   "cell_type": "code",
   "execution_count": null,
   "metadata": {},
   "outputs": [],
   "source": [
    "#salva lo state dict del modello\n",
    "PATH = os.getcwd()\n",
    "torch.save(model.state_dict(), \"github_model_80epochs_beta_01_SEED.pth\")"
   ]
  },
  {
   "cell_type": "markdown",
   "metadata": {},
   "source": [
    "### Load a trained model"
   ]
  },
  {
   "cell_type": "code",
   "execution_count": 27,
   "metadata": {},
   "outputs": [
    {
     "data": {
      "text/plain": [
       "<All keys matched successfully>"
      ]
     },
     "execution_count": 27,
     "metadata": {},
     "output_type": "execute_result"
    }
   ],
   "source": [
    "model.load_state_dict(torch.load('github_model_80epochs_beta_01_SEED.pth'))"
   ]
  },
  {
   "cell_type": "code",
   "execution_count": 30,
   "metadata": {},
   "outputs": [
    {
     "data": {
      "image/png": "[encoded data removed]",
      "text/plain": [
       "<Figure size 1440x720 with 4 Axes>"
      ]
     },
     "metadata": {
      "needs_background": "light"
     },
     "output_type": "display_data"
    },
    {
     "data": {
      "image/png": "[encoded data removed]",
      "text/plain": [
       "<Figure size 1440x360 with 1 Axes>"
      ]
     },
     "metadata": {
      "needs_background": "light"
     },
     "output_type": "display_data"
    }
   ],
   "source": [
    "data = next(iter(train_loader))\n",
    "data = data.to(device)           \n",
    "data_ = data.view(data.size(0), -1)\n",
    "reconstruction, mu, logvar = model(data_)\n",
    "f,(ax1,ax2) = plt.subplots(1, 2, sharey=True, figsize =(20, 10))\n",
    "g1 = sns.heatmap(data.view(DIM_MAT, DIM_MAT), linewidth=0.5,cbar=True,ax=ax1, square=True)\n",
    "g1.set_ylabel('')\n",
    "g1.set_xlabel('')\n",
    "g1.set_title(\"original\")\n",
    "g2 = sns.heatmap(reconstruction.view(DIM_MAT,DIM_MAT).detach().numpy(), linewidth=0.5,cbar=True,ax=ax2, square=True)\n",
    "g2.set_ylabel('')\n",
    "g2.set_xlabel('')\n",
    "g2.set_title(\"reconstructed\")\n",
    "plt.show()\n",
    "x_axis = np.arange(DIM_MAT)\n",
    "a_row = random.randrange(I)\n",
    "plt.figure(figsize=(20, 5))\n",
    "plt.bar(x_axis-0.2, data.view(DIM_MAT,DIM_MAT).detach().numpy()[a_row,:], width=0.4, label = \"original\")\n",
    "plt.bar(x_axis+0.2, reconstruction.view(DIM_MAT,DIM_MAT).detach().numpy()[a_row,:],width=0.4, label = \"reconstructed\")\n",
    "plt.legend()\n",
    "plt.show()"
   ]
  },
  {
   "cell_type": "code",
   "execution_count": 47,
   "metadata": {},
   "outputs": [
    {
     "data": {
      "text/plain": [
       "array([0.82687926, 0.93905824, 0.9155761 , 0.9657555 , 0.93628275,\n",
       "       0.97518975, 0.9133382 , 0.9291074 , 0.51942104, 0.8967742 ,\n",
       "       0.82774514, 0.7421882 , 0.9802523 , 0.85348535, 0.88592064,\n",
       "       0.8787133 , 0.94510794, 0.7465406 , 0.8482268 , 0.61003363,\n",
       "       0.9999999 , 0.2861034 , 0.6603946 , 0.82227737, 0.8975231 ,\n",
       "       0.96480465, 0.8474368 , 0.93341035, 0.921636  , 0.677835  ,\n",
       "       0.86335415, 0.9663659 ], dtype=float32)"
      ]
     },
     "execution_count": 47,
     "metadata": {},
     "output_type": "execute_result"
    }
   ],
   "source": [
    "corr_in = data.view(DIM_MAT,DIM_MAT).detach().numpy()[a_row,:]\n",
    "corr_out = reconstruction.view(DIM_MAT,DIM_MAT).detach().numpy()[a_row,:]\n",
    "corr_in"
   ]
  },
  {
   "cell_type": "markdown",
   "metadata": {},
   "source": [
    "detach().numpy() trasforma 1 in 0.999999999"
   ]
  },
  {
   "cell_type": "code",
   "execution_count": 48,
   "metadata": {},
   "outputs": [
    {
     "name": "stderr",
     "output_type": "stream",
     "text": [
      "100%|██████████| 35/35 [00:00<00:00, 421.95it/s]\n",
      "100%|██████████| 83/83 [00:00<00:00, 957.05it/s]\n"
     ]
    },
    {
     "data": {
      "image/png": "[encoded data removed]",
      "text/plain": [
       "<Figure size 432x288 with 1 Axes>"
      ]
     },
     "metadata": {
      "needs_background": "light"
     },
     "output_type": "display_data"
    }
   ],
   "source": [
    "model.eval()  \n",
    "running_loss = 0.0\n",
    "item_loss = []\n",
    "mu_outsample, std_outsample = [[], []]\n",
    "\n",
    "criterion2 = nn.MSELoss(reduction = 'mean')\n",
    "\n",
    "with torch.no_grad():   \n",
    "    for i, data in tqdm(enumerate(val_loader), total=int(len(val_data)/val_loader.batch_size)):\n",
    "        #data, _ = data\n",
    "        data = data.to(device)\n",
    "\n",
    "        data = data.view(data.size(0), -1)\n",
    "        reconstruction, mu, logvar = model(data)\n",
    "\n",
    "      #  reconstruction = reconstruction.view( -1)\n",
    "        mu_outsample.append(mu)\n",
    "        std = torch.exp(0.5*logvar)\n",
    "        std_outsample.append(std)\n",
    "\n",
    "        mse_loss = criterion2(reconstruction, data)\n",
    "       # print(\"mse_loss = \", mse_loss)\n",
    "        #loss = final_loss(mse_loss, mu, logvar, beta)\n",
    "        loss = mse_loss \n",
    "\n",
    "        #print(\"runing_loss = \", running_loss)\n",
    "        item_loss.append(loss)\n",
    "\n",
    "tens_mu_outsample = torch.stack(mu_outsample)\n",
    "tens_std_outsample = torch.stack(std_outsample)\n",
    "\n",
    "item_loss_insample = []\n",
    "mu_insample, std_insample =  [[], []]\n",
    "with torch.no_grad():   \n",
    "    for i, data in tqdm(enumerate(train_loader), total=int(len(train_data)/train_loader.batch_size)):\n",
    "        #data, _ = data\n",
    "        data = data.to(device)\n",
    "\n",
    "        data = data.view(data.size(0), -1)\n",
    "        reconstruction, mu, logvar = model(data)\n",
    "\n",
    "      #  reconstruction = reconstruction.view( -1)\n",
    "        mu_insample.append(mu)\n",
    "        std = torch.exp(0.5*logvar)\n",
    "        std_insample.append(std)\n",
    "        mse_loss = criterion2(reconstruction, data)\n",
    "       # print(\"mse_loss = \", mse_loss)\n",
    "        #loss = final_loss(mse_loss, mu, logvar, beta)\n",
    "        loss = mse_loss \n",
    "\n",
    "        #print(\"runing_loss = \", running_loss)\n",
    "        item_loss_insample.append(loss)\n",
    "\n",
    "plt.hist(item_loss, bins=26, alpha=0.5, label = 'validation MSE', density=True)            \n",
    "plt.hist(item_loss_insample, bins=26, alpha=0.5, label = 'training MSE', density=True)\n",
    "plt.legend()\n",
    "plt.show()"
   ]
  },
  {
   "cell_type": "code",
   "execution_count": 49,
   "metadata": {},
   "outputs": [
    {
     "name": "stdout",
     "output_type": "stream",
     "text": [
      "Validation Loss Statistics:\n",
      "  Mean:            0.0007\n",
      "  Median:          0.0004\n",
      "  Standard Deviation: 0.0008\n",
      "\n",
      "Training Loss Statistics:\n",
      "  Mean:            0.0007\n",
      "  Median:          0.0004\n",
      "  Standard Deviation: 0.0009\n"
     ]
    }
   ],
   "source": [
    "# Convert the item_loss and item_loss_insample to numpy arrays\n",
    "item_loss_np = np.array(item_loss)\n",
    "item_loss_insample_np = np.array(item_loss_insample)\n",
    "\n",
    "# Calculate mean, median, and std for validation loss\n",
    "mean_loss = np.mean(item_loss_np)\n",
    "median_loss = np.median(item_loss_np)\n",
    "std_loss = np.std(item_loss_np)\n",
    "\n",
    "# Calculate mean, median, and std for training loss\n",
    "mean_loss_insample = np.mean(item_loss_insample_np)\n",
    "median_loss_insample = np.median(item_loss_insample_np)\n",
    "std_loss_insample = np.std(item_loss_insample_np)\n",
    "\n",
    "# Print the results in a formatted manner\n",
    "print(\"Validation Loss Statistics:\")\n",
    "print(f\"  Mean:            {mean_loss:.4f}\")\n",
    "print(f\"  Median:          {median_loss:.4f}\")\n",
    "print(f\"  Standard Deviation: {std_loss:.4f}\")\n",
    "\n",
    "print(\"\\nTraining Loss Statistics:\")\n",
    "print(f\"  Mean:            {mean_loss_insample:.4f}\")\n",
    "print(f\"  Median:          {median_loss_insample:.4f}\")\n",
    "print(f\"  Standard Deviation: {std_loss_insample:.4f}\")"
   ]
  }
 ],
 "metadata": {
  "kernelspec": {
   "display_name": "py38",
   "language": "python",
   "name": "py38"
  },
  "language_info": {
   "codemirror_mode": {
    "name": "ipython",
    "version": 3
   },
   "file_extension": ".py",
   "mimetype": "text/x-python",
   "name": "python",
   "nbconvert_exporter": "python",
   "pygments_lexer": "ipython3",
   "version": "3.8.11"
  }
 },
 "nbformat": 4,
 "nbformat_minor": 4
}
